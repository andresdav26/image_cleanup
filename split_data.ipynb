{
 "cells": [
  {
   "cell_type": "code",
   "execution_count": 1,
   "metadata": {},
   "outputs": [],
   "source": [
    "from pathlib import Path\n",
    "from sklearn.model_selection import train_test_split"
   ]
  },
  {
   "cell_type": "code",
   "execution_count": 2,
   "metadata": {},
   "outputs": [],
   "source": [
    "noise_path = '/home/adguerrero/ia_nas/datasets/image_cleanup/noise/'\n",
    "img_paths = [p for p in Path(noise_path).glob('*') if p.suffix in ('.png', '.jpg', '.jpeg')] # noise"
   ]
  },
  {
   "cell_type": "code",
   "execution_count": 3,
   "metadata": {},
   "outputs": [
    {
     "name": "stdout",
     "output_type": "stream",
     "text": [
      "172 44\n"
     ]
    }
   ],
   "source": [
    "train_paths, test_paths = train_test_split(img_paths, train_size=172, random_state=42)\n",
    "print(len(train_paths),len(test_paths))"
   ]
  },
  {
   "cell_type": "code",
   "execution_count": 19,
   "metadata": {},
   "outputs": [],
   "source": [
    "img_train = []\n",
    "for p in train_paths:  \n",
    "    img_train.append(str(p.name))\n",
    "\n",
    "img_test = []\n",
    "for p in test_paths:  \n",
    "    img_test.append(str(p.name))"
   ]
  },
  {
   "cell_type": "code",
   "execution_count": 5,
   "metadata": {},
   "outputs": [
    {
     "data": {
      "text/plain": [
       "torch.Size([1, 256, 256])"
      ]
     },
     "execution_count": 5,
     "metadata": {},
     "output_type": "execute_result"
    }
   ],
   "source": [
    "import torch \n",
    "\n",
    "x = torch.rand(1,256,256)\n",
    "x.size()"
   ]
  },
  {
   "cell_type": "code",
   "execution_count": 6,
   "metadata": {},
   "outputs": [
    {
     "data": {
      "text/plain": [
       "torch.Size([3, 256, 256])"
      ]
     },
     "execution_count": 6,
     "metadata": {},
     "output_type": "execute_result"
    }
   ],
   "source": [
    "x.repeat(3, 1, 1).size()"
   ]
  },
  {
   "cell_type": "code",
   "execution_count": 23,
   "metadata": {},
   "outputs": [
    {
     "data": {
      "text/plain": [
       "tensor([[[0.3080, 0.8380, 0.7891,  ..., 0.0578, 0.1921, 0.7745],\n",
       "         [0.4215, 0.3197, 0.4625,  ..., 0.8949, 0.9623, 0.1490],\n",
       "         [0.2350, 0.1527, 0.5735,  ..., 0.8048, 0.4788, 0.3775],\n",
       "         ...,\n",
       "         [0.2027, 0.8733, 0.6132,  ..., 0.6617, 0.5096, 0.8718],\n",
       "         [0.7551, 0.8036, 0.3882,  ..., 0.3231, 0.1327, 0.7131],\n",
       "         [0.3471, 0.0030, 0.8697,  ..., 0.9097, 0.7462, 0.6476]],\n",
       "\n",
       "        [[0.3080, 0.8380, 0.7891,  ..., 0.0578, 0.1921, 0.7745],\n",
       "         [0.4215, 0.3197, 0.4625,  ..., 0.8949, 0.9623, 0.1490],\n",
       "         [0.2350, 0.1527, 0.5735,  ..., 0.8048, 0.4788, 0.3775],\n",
       "         ...,\n",
       "         [0.2027, 0.8733, 0.6132,  ..., 0.6617, 0.5096, 0.8718],\n",
       "         [0.7551, 0.8036, 0.3882,  ..., 0.3231, 0.1327, 0.7131],\n",
       "         [0.3471, 0.0030, 0.8697,  ..., 0.9097, 0.7462, 0.6476]],\n",
       "\n",
       "        [[0.3080, 0.8380, 0.7891,  ..., 0.0578, 0.1921, 0.7745],\n",
       "         [0.4215, 0.3197, 0.4625,  ..., 0.8949, 0.9623, 0.1490],\n",
       "         [0.2350, 0.1527, 0.5735,  ..., 0.8048, 0.4788, 0.3775],\n",
       "         ...,\n",
       "         [0.2027, 0.8733, 0.6132,  ..., 0.6617, 0.5096, 0.8718],\n",
       "         [0.7551, 0.8036, 0.3882,  ..., 0.3231, 0.1327, 0.7131],\n",
       "         [0.3471, 0.0030, 0.8697,  ..., 0.9097, 0.7462, 0.6476]]])"
      ]
     },
     "execution_count": 23,
     "metadata": {},
     "output_type": "execute_result"
    }
   ],
   "source": [
    "x.expand(3,-1,-1)"
   ]
  },
  {
   "cell_type": "code",
   "execution_count": 2,
   "metadata": {},
   "outputs": [],
   "source": [
    "from PIL import Image\n",
    "I = Image.open(\"/home/adguerrero/ia_nas/datasets/image_cleanup/clean/fontfre_noisec_te.png\")"
   ]
  },
  {
   "cell_type": "code",
   "execution_count": 7,
   "metadata": {},
   "outputs": [
    {
     "name": "stdout",
     "output_type": "stream",
     "text": [
      "<PIL.PngImagePlugin.PngImageFile image mode=L size=540x258 at 0x7FA35A5AEB00>\n"
     ]
    }
   ],
   "source": [
    "print(I)"
   ]
  },
  {
   "cell_type": "code",
   "execution_count": null,
   "metadata": {},
   "outputs": [],
   "source": []
  }
 ],
 "metadata": {
  "kernelspec": {
   "display_name": "autoencoder",
   "language": "python",
   "name": "python3"
  },
  "language_info": {
   "codemirror_mode": {
    "name": "ipython",
    "version": 3
   },
   "file_extension": ".py",
   "mimetype": "text/x-python",
   "name": "python",
   "nbconvert_exporter": "python",
   "pygments_lexer": "ipython3",
   "version": "3.10.5 | packaged by conda-forge | (main, Jun 14 2022, 07:04:59) [GCC 10.3.0]"
  },
  "orig_nbformat": 4,
  "vscode": {
   "interpreter": {
    "hash": "cf428c33731f1d6a17ff491df1be135a07de17196e3bcfb0c449658ecc63938a"
   }
  }
 },
 "nbformat": 4,
 "nbformat_minor": 2
}
